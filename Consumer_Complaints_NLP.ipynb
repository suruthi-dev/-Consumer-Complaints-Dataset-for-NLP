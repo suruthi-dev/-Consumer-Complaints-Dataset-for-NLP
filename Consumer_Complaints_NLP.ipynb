{
  "cells": [
    {
      "cell_type": "markdown",
      "source": [
        "# **IMPORTING THE DATASET**"
      ],
      "metadata": {
        "id": "mFXN0-indMae"
      },
      "id": "mFXN0-indMae"
    },
    {
      "cell_type": "code",
      "execution_count": 1,
      "id": "435a8d2e",
      "metadata": {
        "id": "435a8d2e"
      },
      "outputs": [],
      "source": [
        "import pandas as pd\n",
        "import nltk\n",
        "import pandas as pd \n",
        "import re\n",
        "import string\n",
        "import nltk        \n",
        "from sklearn.feature_extraction.text import TfidfVectorizer\n",
        "from sklearn.ensemble import RandomForestClassifier\n",
        "from sklearn.model_selection import train_test_split\n",
        "from sklearn.metrics import confusion_matrix, classification_report \n",
        "import matplotlib.pyplot as plt\n",
        "import numpy as np"
      ]
    },
    {
      "cell_type": "code",
      "source": [],
      "metadata": {
        "id": "G24c4RpRcCFS"
      },
      "id": "G24c4RpRcCFS",
      "execution_count": null,
      "outputs": []
    },
    {
      "cell_type": "code",
      "source": [
        "from google.colab import drive\n",
        "drive.mount('/content/drive')"
      ],
      "metadata": {
        "colab": {
          "base_uri": "https://localhost:8080/"
        },
        "id": "Bt8APOkMcEUN",
        "outputId": "59539fb5-3d0e-4851-d430-13a9c8646d78"
      },
      "id": "Bt8APOkMcEUN",
      "execution_count": 2,
      "outputs": [
        {
          "output_type": "stream",
          "name": "stdout",
          "text": [
            "Drive already mounted at /content/drive; to attempt to forcibly remount, call drive.mount(\"/content/drive\", force_remount=True).\n"
          ]
        }
      ]
    },
    {
      "cell_type": "code",
      "execution_count": 3,
      "id": "540ebda2",
      "metadata": {
        "id": "540ebda2",
        "outputId": "77e4c06e-ed6f-48be-f5e7-0db966e93d05",
        "colab": {
          "base_uri": "https://localhost:8080/",
          "height": 423
        }
      },
      "outputs": [
        {
          "output_type": "execute_result",
          "data": {
            "text/plain": [
              "        Unnamed: 0           product  \\\n",
              "0                0       credit_card   \n",
              "1                1       credit_card   \n",
              "2                2    retail_banking   \n",
              "3                3  credit_reporting   \n",
              "4                4  credit_reporting   \n",
              "...            ...               ...   \n",
              "162416      162416   debt_collection   \n",
              "162417      162417       credit_card   \n",
              "162418      162418   debt_collection   \n",
              "162419      162419       credit_card   \n",
              "162420      162420  credit_reporting   \n",
              "\n",
              "                                                narrative  \n",
              "0       purchase order day shipping amount receive pro...  \n",
              "1       forwarded message date tue subject please inve...  \n",
              "2       forwarded message cc sent friday pdt subject f...  \n",
              "3       payment history missing credit report speciali...  \n",
              "4       payment history missing credit report made mis...  \n",
              "...                                                   ...  \n",
              "162416                                               name  \n",
              "162417                                               name  \n",
              "162418                                               name  \n",
              "162419                                               name  \n",
              "162420                                               name  \n",
              "\n",
              "[162421 rows x 3 columns]"
            ],
            "text/html": [
              "\n",
              "  <div id=\"df-aece112d-798e-418d-af6f-295f7135f82e\">\n",
              "    <div class=\"colab-df-container\">\n",
              "      <div>\n",
              "<style scoped>\n",
              "    .dataframe tbody tr th:only-of-type {\n",
              "        vertical-align: middle;\n",
              "    }\n",
              "\n",
              "    .dataframe tbody tr th {\n",
              "        vertical-align: top;\n",
              "    }\n",
              "\n",
              "    .dataframe thead th {\n",
              "        text-align: right;\n",
              "    }\n",
              "</style>\n",
              "<table border=\"1\" class=\"dataframe\">\n",
              "  <thead>\n",
              "    <tr style=\"text-align: right;\">\n",
              "      <th></th>\n",
              "      <th>Unnamed: 0</th>\n",
              "      <th>product</th>\n",
              "      <th>narrative</th>\n",
              "    </tr>\n",
              "  </thead>\n",
              "  <tbody>\n",
              "    <tr>\n",
              "      <th>0</th>\n",
              "      <td>0</td>\n",
              "      <td>credit_card</td>\n",
              "      <td>purchase order day shipping amount receive pro...</td>\n",
              "    </tr>\n",
              "    <tr>\n",
              "      <th>1</th>\n",
              "      <td>1</td>\n",
              "      <td>credit_card</td>\n",
              "      <td>forwarded message date tue subject please inve...</td>\n",
              "    </tr>\n",
              "    <tr>\n",
              "      <th>2</th>\n",
              "      <td>2</td>\n",
              "      <td>retail_banking</td>\n",
              "      <td>forwarded message cc sent friday pdt subject f...</td>\n",
              "    </tr>\n",
              "    <tr>\n",
              "      <th>3</th>\n",
              "      <td>3</td>\n",
              "      <td>credit_reporting</td>\n",
              "      <td>payment history missing credit report speciali...</td>\n",
              "    </tr>\n",
              "    <tr>\n",
              "      <th>4</th>\n",
              "      <td>4</td>\n",
              "      <td>credit_reporting</td>\n",
              "      <td>payment history missing credit report made mis...</td>\n",
              "    </tr>\n",
              "    <tr>\n",
              "      <th>...</th>\n",
              "      <td>...</td>\n",
              "      <td>...</td>\n",
              "      <td>...</td>\n",
              "    </tr>\n",
              "    <tr>\n",
              "      <th>162416</th>\n",
              "      <td>162416</td>\n",
              "      <td>debt_collection</td>\n",
              "      <td>name</td>\n",
              "    </tr>\n",
              "    <tr>\n",
              "      <th>162417</th>\n",
              "      <td>162417</td>\n",
              "      <td>credit_card</td>\n",
              "      <td>name</td>\n",
              "    </tr>\n",
              "    <tr>\n",
              "      <th>162418</th>\n",
              "      <td>162418</td>\n",
              "      <td>debt_collection</td>\n",
              "      <td>name</td>\n",
              "    </tr>\n",
              "    <tr>\n",
              "      <th>162419</th>\n",
              "      <td>162419</td>\n",
              "      <td>credit_card</td>\n",
              "      <td>name</td>\n",
              "    </tr>\n",
              "    <tr>\n",
              "      <th>162420</th>\n",
              "      <td>162420</td>\n",
              "      <td>credit_reporting</td>\n",
              "      <td>name</td>\n",
              "    </tr>\n",
              "  </tbody>\n",
              "</table>\n",
              "<p>162421 rows × 3 columns</p>\n",
              "</div>\n",
              "      <button class=\"colab-df-convert\" onclick=\"convertToInteractive('df-aece112d-798e-418d-af6f-295f7135f82e')\"\n",
              "              title=\"Convert this dataframe to an interactive table.\"\n",
              "              style=\"display:none;\">\n",
              "        \n",
              "  <svg xmlns=\"http://www.w3.org/2000/svg\" height=\"24px\"viewBox=\"0 0 24 24\"\n",
              "       width=\"24px\">\n",
              "    <path d=\"M0 0h24v24H0V0z\" fill=\"none\"/>\n",
              "    <path d=\"M18.56 5.44l.94 2.06.94-2.06 2.06-.94-2.06-.94-.94-2.06-.94 2.06-2.06.94zm-11 1L8.5 8.5l.94-2.06 2.06-.94-2.06-.94L8.5 2.5l-.94 2.06-2.06.94zm10 10l.94 2.06.94-2.06 2.06-.94-2.06-.94-.94-2.06-.94 2.06-2.06.94z\"/><path d=\"M17.41 7.96l-1.37-1.37c-.4-.4-.92-.59-1.43-.59-.52 0-1.04.2-1.43.59L10.3 9.45l-7.72 7.72c-.78.78-.78 2.05 0 2.83L4 21.41c.39.39.9.59 1.41.59.51 0 1.02-.2 1.41-.59l7.78-7.78 2.81-2.81c.8-.78.8-2.07 0-2.86zM5.41 20L4 18.59l7.72-7.72 1.47 1.35L5.41 20z\"/>\n",
              "  </svg>\n",
              "      </button>\n",
              "      \n",
              "  <style>\n",
              "    .colab-df-container {\n",
              "      display:flex;\n",
              "      flex-wrap:wrap;\n",
              "      gap: 12px;\n",
              "    }\n",
              "\n",
              "    .colab-df-convert {\n",
              "      background-color: #E8F0FE;\n",
              "      border: none;\n",
              "      border-radius: 50%;\n",
              "      cursor: pointer;\n",
              "      display: none;\n",
              "      fill: #1967D2;\n",
              "      height: 32px;\n",
              "      padding: 0 0 0 0;\n",
              "      width: 32px;\n",
              "    }\n",
              "\n",
              "    .colab-df-convert:hover {\n",
              "      background-color: #E2EBFA;\n",
              "      box-shadow: 0px 1px 2px rgba(60, 64, 67, 0.3), 0px 1px 3px 1px rgba(60, 64, 67, 0.15);\n",
              "      fill: #174EA6;\n",
              "    }\n",
              "\n",
              "    [theme=dark] .colab-df-convert {\n",
              "      background-color: #3B4455;\n",
              "      fill: #D2E3FC;\n",
              "    }\n",
              "\n",
              "    [theme=dark] .colab-df-convert:hover {\n",
              "      background-color: #434B5C;\n",
              "      box-shadow: 0px 1px 3px 1px rgba(0, 0, 0, 0.15);\n",
              "      filter: drop-shadow(0px 1px 2px rgba(0, 0, 0, 0.3));\n",
              "      fill: #FFFFFF;\n",
              "    }\n",
              "  </style>\n",
              "\n",
              "      <script>\n",
              "        const buttonEl =\n",
              "          document.querySelector('#df-aece112d-798e-418d-af6f-295f7135f82e button.colab-df-convert');\n",
              "        buttonEl.style.display =\n",
              "          google.colab.kernel.accessAllowed ? 'block' : 'none';\n",
              "\n",
              "        async function convertToInteractive(key) {\n",
              "          const element = document.querySelector('#df-aece112d-798e-418d-af6f-295f7135f82e');\n",
              "          const dataTable =\n",
              "            await google.colab.kernel.invokeFunction('convertToInteractive',\n",
              "                                                     [key], {});\n",
              "          if (!dataTable) return;\n",
              "\n",
              "          const docLinkHtml = 'Like what you see? Visit the ' +\n",
              "            '<a target=\"_blank\" href=https://colab.research.google.com/notebooks/data_table.ipynb>data table notebook</a>'\n",
              "            + ' to learn more about interactive tables.';\n",
              "          element.innerHTML = '';\n",
              "          dataTable['output_type'] = 'display_data';\n",
              "          await google.colab.output.renderOutput(dataTable, element);\n",
              "          const docLink = document.createElement('div');\n",
              "          docLink.innerHTML = docLinkHtml;\n",
              "          element.appendChild(docLink);\n",
              "        }\n",
              "      </script>\n",
              "    </div>\n",
              "  </div>\n",
              "  "
            ]
          },
          "metadata": {},
          "execution_count": 3
        }
      ],
      "source": [
        "df = pd.read_csv(\"/content/drive/MyDrive/complaints_processed.csv\")\n",
        "df"
      ]
    },
    {
      "cell_type": "markdown",
      "source": [
        "# **Pre-Processing**"
      ],
      "metadata": {
        "id": "CiMHR5XZdTL8"
      },
      "id": "CiMHR5XZdTL8"
    },
    {
      "cell_type": "code",
      "execution_count": 4,
      "id": "3dc7b217",
      "metadata": {
        "id": "3dc7b217",
        "outputId": "e7fea650-41fd-4222-b2e2-0f846e1195b6",
        "colab": {
          "base_uri": "https://localhost:8080/"
        }
      },
      "outputs": [
        {
          "output_type": "execute_result",
          "data": {
            "text/plain": [
              "Unnamed: 0     0\n",
              "product        0\n",
              "narrative     10\n",
              "dtype: int64"
            ]
          },
          "metadata": {},
          "execution_count": 4
        }
      ],
      "source": [
        "df.isna().sum()"
      ]
    },
    {
      "cell_type": "code",
      "execution_count": 5,
      "id": "23e9575e",
      "metadata": {
        "id": "23e9575e"
      },
      "outputs": [],
      "source": [
        "df = df.dropna()"
      ]
    },
    {
      "cell_type": "code",
      "execution_count": 6,
      "id": "5237254b",
      "metadata": {
        "scrolled": true,
        "id": "5237254b",
        "outputId": "334d3937-9622-4d80-900d-9717366fae3e",
        "colab": {
          "base_uri": "https://localhost:8080/"
        }
      },
      "outputs": [
        {
          "output_type": "execute_result",
          "data": {
            "text/plain": [
              "array(['credit_card', 'retail_banking', 'credit_reporting',\n",
              "       'mortgages_and_loans', 'debt_collection'], dtype=object)"
            ]
          },
          "metadata": {},
          "execution_count": 6
        }
      ],
      "source": [
        "df['product'].unique()"
      ]
    },
    {
      "cell_type": "code",
      "execution_count": 7,
      "id": "9168a427",
      "metadata": {
        "id": "9168a427",
        "outputId": "1b322f27-7408-41d7-952f-f5ee9fa525b9",
        "colab": {
          "base_uri": "https://localhost:8080/"
        }
      },
      "outputs": [
        {
          "output_type": "execute_result",
          "data": {
            "text/plain": [
              "credit_reporting       56.136592\n",
              "debt_collection        14.252729\n",
              "mortgages_and_loans    11.692558\n",
              "credit_card             9.584326\n",
              "retail_banking          8.333795\n",
              "Name: product, dtype: float64"
            ]
          },
          "metadata": {},
          "execution_count": 7
        }
      ],
      "source": [
        "df['product'].value_counts(normalize=True)*100"
      ]
    },
    {
      "cell_type": "markdown",
      "source": [
        "# **Visualizing the Class Label Distribution**"
      ],
      "metadata": {
        "id": "UxnysjFOdZTW"
      },
      "id": "UxnysjFOdZTW"
    },
    {
      "cell_type": "code",
      "execution_count": 8,
      "id": "190fef3b",
      "metadata": {
        "id": "190fef3b",
        "outputId": "3335c825-8dd7-4263-9a7e-2dc01948dd18",
        "colab": {
          "base_uri": "https://localhost:8080/",
          "height": 423
        }
      },
      "outputs": [
        {
          "output_type": "execute_result",
          "data": {
            "text/plain": [
              "<Axes: ylabel='product'>"
            ]
          },
          "metadata": {},
          "execution_count": 8
        },
        {
          "output_type": "display_data",
          "data": {
            "text/plain": [
              "<Figure size 640x480 with 1 Axes>"
            ],
            "image/png": "[encoded data removed]"
          },
          "metadata": {}
        }
      ],
      "source": [
        "df['product'].value_counts().plot(kind='pie')"
      ]
    },
    {
      "cell_type": "code",
      "execution_count": 9,
      "id": "b54acefe",
      "metadata": {
        "id": "b54acefe",
        "outputId": "159daae8-1050-4d24-e522-18e1c056f420",
        "colab": {
          "base_uri": "https://localhost:8080/"
        }
      },
      "outputs": [
        {
          "output_type": "stream",
          "name": "stderr",
          "text": [
            "[nltk_data] Downloading package stopwords to /root/nltk_data...\n",
            "[nltk_data]   Package stopwords is already up-to-date!\n",
            "[nltk_data] Downloading package omw-1.4 to /root/nltk_data...\n",
            "[nltk_data]   Package omw-1.4 is already up-to-date!\n",
            "[nltk_data] Downloading package wordnet to /root/nltk_data...\n",
            "[nltk_data]   Package wordnet is already up-to-date!\n"
          ]
        },
        {
          "output_type": "execute_result",
          "data": {
            "text/plain": [
              "True"
            ]
          },
          "metadata": {},
          "execution_count": 9
        }
      ],
      "source": [
        "nltk.download('stopwords')\n",
        "nltk.download('omw-1.4')\n",
        "nltk.download('wordnet')"
      ]
    },
    {
      "cell_type": "code",
      "execution_count": 10,
      "id": "021a4908",
      "metadata": {
        "id": "021a4908"
      },
      "outputs": [],
      "source": [
        "import re\n",
        "from nltk.corpus import stopwords\n",
        "from nltk.stem.porter import PorterStemmer\n",
        "from nltk.stem import WordNetLemmatizer\n",
        "\n",
        "ps = PorterStemmer()\n",
        "wordnet = WordNetLemmatizer()\n",
        "from nltk.tokenize import TweetTokenizer \n",
        "import string"
      ]
    },
    {
      "cell_type": "code",
      "execution_count": 11,
      "id": "73e8a75f",
      "metadata": {
        "id": "73e8a75f"
      },
      "outputs": [],
      "source": [
        "all_stopwords = stopwords.words('english')\n",
        "\n",
        "def preprocessing(data):\n",
        "    corpus = []\n",
        "    \n",
        "    review = data.lower() # casefolding\n",
        "    review = review.split() \n",
        "    lemma= WordNetLemmatizer() # lemmatization\n",
        "    review = [lemma.lemmatize(word) for word in review if word not in all_stopwords]\n",
        "    review = ' '.join(review)\n",
        "    corpus.append(review)\n",
        "    return corpus"
      ]
    },
    {
      "cell_type": "code",
      "execution_count": 12,
      "id": "8f1b4e84",
      "metadata": {
        "id": "8f1b4e84"
      },
      "outputs": [],
      "source": [
        "from sklearn.preprocessing import LabelEncoder"
      ]
    },
    {
      "cell_type": "code",
      "execution_count": 13,
      "id": "4304a053",
      "metadata": {
        "id": "4304a053"
      },
      "outputs": [],
      "source": [
        "le = LabelEncoder()\n",
        "y = le.fit_transform(df['product'])\n"
      ]
    },
    {
      "cell_type": "code",
      "execution_count": 14,
      "id": "799ebb7b",
      "metadata": {
        "id": "799ebb7b",
        "outputId": "bd457ec1-c762-4152-f8d8-22d4a605e896",
        "colab": {
          "base_uri": "https://localhost:8080/"
        }
      },
      "outputs": [
        {
          "output_type": "stream",
          "name": "stdout",
          "text": [
            "credit_card encoded as : 0\n",
            "credit_reporting encoded as : 1\n",
            "debt_collection encoded as : 2\n",
            "mortgages_and_loans encoded as : 3\n",
            "retail_banking encoded as : 4\n"
          ]
        }
      ],
      "source": [
        "codes =  list(le.inverse_transform(range(5)))\n",
        "\n",
        "\n",
        "import itertools as it\n",
        "for encoding in zip(le.classes_, it.count()):\n",
        "    print(f'{encoding[0]} encoded as : {encoding[1]}')"
      ]
    },
    {
      "cell_type": "code",
      "execution_count": 15,
      "id": "dbb047e0",
      "metadata": {
        "id": "dbb047e0"
      },
      "outputs": [],
      "source": [
        "from sklearn.feature_extraction.text import TfidfVectorizer\n",
        "from sklearn.linear_model import LogisticRegression\n",
        "from sklearn.metrics import accuracy_score,classification_report\n"
      ]
    },
    {
      "cell_type": "markdown",
      "source": [
        "# **Vectorization**"
      ],
      "metadata": {
        "id": "alurTfS6dwYt"
      },
      "id": "alurTfS6dwYt"
    },
    {
      "cell_type": "code",
      "execution_count": 16,
      "id": "e2ecaf47",
      "metadata": {
        "id": "e2ecaf47",
        "colab": {
          "base_uri": "https://localhost:8080/"
        },
        "outputId": "5decd540-dc6f-4081-f913-7532e7469f3b"
      },
      "outputs": [
        {
          "output_type": "stream",
          "name": "stderr",
          "text": [
            "/usr/local/lib/python3.9/dist-packages/sklearn/feature_extraction/text.py:550: UserWarning: The parameter 'stop_words' will not be used since 'analyzer' != 'word'\n",
            "  warnings.warn(\n"
          ]
        }
      ],
      "source": [
        "tfidf = TfidfVectorizer(min_df = 1, stop_words='english',analyzer=preprocessing)\n",
        "\n",
        "X_tfidf = tfidf.fit_transform(df['narrative'])\n",
        "\n"
      ]
    },
    {
      "cell_type": "code",
      "execution_count": 17,
      "id": "f8b14c85",
      "metadata": {
        "id": "f8b14c85"
      },
      "outputs": [],
      "source": [
        "#Train Test Split\n",
        "X_train, X_test, y_train, y_test = train_test_split(X_tfidf, df['product'], test_size=0.2, random_state=42)"
      ]
    },
    {
      "cell_type": "markdown",
      "id": "5e060bea",
      "metadata": {
        "id": "5e060bea"
      },
      "source": [
        "# **LOGISTIC REGRESSION**"
      ]
    },
    {
      "cell_type": "code",
      "execution_count": null,
      "id": "2aa6e140",
      "metadata": {
        "id": "2aa6e140"
      },
      "outputs": [],
      "source": [
        "log = LogisticRegression()\n",
        "log.fit(X_train,y_train)"
      ]
    },
    {
      "cell_type": "code",
      "execution_count": 19,
      "id": "073bc4c3",
      "metadata": {
        "id": "073bc4c3"
      },
      "outputs": [],
      "source": [
        "ypred_log = log.predict(X_test)"
      ]
    },
    {
      "cell_type": "code",
      "source": [
        "log_accuracy = accuracy_score(y_test, ypred_log)"
      ],
      "metadata": {
        "id": "C6bEeKxEhZWQ"
      },
      "id": "C6bEeKxEhZWQ",
      "execution_count": null,
      "outputs": []
    },
    {
      "cell_type": "code",
      "execution_count": 21,
      "id": "b52f6fc0",
      "metadata": {
        "id": "b52f6fc0"
      },
      "outputs": [],
      "source": [
        "from sklearn.naive_bayes import MultinomialNB\n",
        "from sklearn.svm import SVC\n",
        "from sklearn.ensemble import RandomForestClassifier\n",
        "from sklearn.tree import DecisionTreeClassifier\n",
        "from sklearn.ensemble import GradientBoostingClassifier\n",
        "from sklearn.model_selection import GridSearchCV"
      ]
    },
    {
      "cell_type": "markdown",
      "source": [
        "# **Support Vector Classifier**"
      ],
      "metadata": {
        "id": "T0iPOBN_d_9_"
      },
      "id": "T0iPOBN_d_9_"
    },
    {
      "cell_type": "code",
      "source": [
        "svm = SVC(kernel='linear', random_state=42)\n",
        "svm.fit(X_train, y_train)\n",
        "svm_pred = svm.predict(X_test)\n",
        "svm_accuracy = accuracy_score(y_test, svm_pred)"
      ],
      "metadata": {
        "id": "Qad1QRXtgZkf"
      },
      "id": "Qad1QRXtgZkf",
      "execution_count": 25,
      "outputs": []
    },
    {
      "cell_type": "markdown",
      "source": [
        "# **MultinomialNB**"
      ],
      "metadata": {
        "id": "pLOXAj1mgp4v"
      },
      "id": "pLOXAj1mgp4v"
    },
    {
      "cell_type": "code",
      "execution_count": 26,
      "id": "7bf68cb3",
      "metadata": {
        "id": "7bf68cb3"
      },
      "outputs": [],
      "source": [
        "nb = MultinomialNB()\n",
        "nb.fit(X_train,y_train)\n",
        "nb_pred = nb.predict(X_test)\n",
        "nb_accuracy = accuracy_score(y_test, nb_pred)"
      ]
    },
    {
      "cell_type": "markdown",
      "source": [
        "# **DecisionTreeClassifier**"
      ],
      "metadata": {
        "id": "l1qYO5txg9qX"
      },
      "id": "l1qYO5txg9qX"
    },
    {
      "cell_type": "code",
      "execution_count": 27,
      "id": "f34fb7fe",
      "metadata": {
        "id": "f34fb7fe"
      },
      "outputs": [],
      "source": [
        "dt = DecisionTreeClassifier(random_state=42)\n",
        "dt.fit(X_train, y_train)\n",
        "dt_pred = dt.predict(X_test)\n",
        "dt_accuracy = accuracy_score(y_test, dt_pred)\n",
        "print('Decision Tree accuracy:', dt_accuracy)"
      ]
    },
    {
      "cell_type": "code",
      "execution_count": 28,
      "id": "de499b96",
      "metadata": {
        "id": "de499b96",
        "colab": {
          "base_uri": "https://localhost:8080/"
        },
        "outputId": "c6863075-03e3-4be2-85b1-57a9f45e8445"
      },
      "outputs": [
        {
          "output_type": "stream",
          "name": "stdout",
          "text": [
            "ACCURACY OF LogisticRegression  0.57\n",
            "ACCURACY OF SupportVector  0.83\n",
            "ACCURACY OF MultinomialNB  0.80\n",
            "ACCURACY OF DecisionTreeClassifier  79\n"
          ]
        }
      ],
      "source": [
        "print(\"ACCURACY OF LogisticRegression \",log_accuracy)\n",
        "print(\"ACCURACY OF SupportVector \",svm_accuracy)\n",
        "print(\"ACCURACY OF MultinomialNB \",nb_accuracy)\n",
        "print(\"ACCURACY OF DecisionTreeClassifier \",dt_accuracy)\n"
      ]
    },
    {
      "cell_type": "code",
      "execution_count": null,
      "id": "61f56de1",
      "metadata": {
        "id": "61f56de1"
      },
      "outputs": [],
      "source": []
    },
    {
      "cell_type": "code",
      "execution_count": null,
      "id": "d34808d5",
      "metadata": {
        "id": "d34808d5"
      },
      "outputs": [],
      "source": []
    },
    {
      "cell_type": "code",
      "execution_count": null,
      "id": "a1b730a4",
      "metadata": {
        "id": "a1b730a4"
      },
      "outputs": [],
      "source": []
    },
    {
      "cell_type": "code",
      "execution_count": null,
      "id": "0e97af13",
      "metadata": {
        "id": "0e97af13"
      },
      "outputs": [],
      "source": []
    },
    {
      "cell_type": "code",
      "execution_count": null,
      "id": "7b43caf6",
      "metadata": {
        "id": "7b43caf6"
      },
      "outputs": [],
      "source": []
    }
  ],
  "metadata": {
    "kernelspec": {
      "display_name": "Python 3 (ipykernel)",
      "language": "python",
      "name": "python3"
    },
    "language_info": {
      "codemirror_mode": {
        "name": "ipython",
        "version": 3
      },
      "file_extension": ".py",
      "mimetype": "text/x-python",
      "name": "python",
      "nbconvert_exporter": "python",
      "pygments_lexer": "ipython3",
      "version": "3.9.12"
    },
    "colab": {
      "provenance": []
    },
    "accelerator": "GPU",
    "gpuClass": "standard"
  },
  "nbformat": 4,
  "nbformat_minor": 5
}
